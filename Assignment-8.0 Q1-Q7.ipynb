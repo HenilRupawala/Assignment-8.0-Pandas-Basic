{
 "cells": [
  {
   "cell_type": "code",
   "execution_count": 1,
   "id": "e4cb625d-1d4a-4871-ac23-d7569968b8f0",
   "metadata": {},
   "outputs": [],
   "source": [
    "# Q1. Create a Pandas Series that contains the following data: 4, 8, 15, 16, 23, and 42. Then, print the series."
   ]
  },
  {
   "cell_type": "code",
   "execution_count": 1,
   "id": "bbb58bfd-fee2-494d-a2ee-f0b90ff35eed",
   "metadata": {},
   "outputs": [
    {
     "data": {
      "text/plain": [
       "0     4\n",
       "1     8\n",
       "2    15\n",
       "3    16\n",
       "4    23\n",
       "5    42\n",
       "dtype: int64"
      ]
     },
     "execution_count": 1,
     "metadata": {},
     "output_type": "execute_result"
    }
   ],
   "source": [
    "import pandas as pd\n",
    "\n",
    "data = [4, 8, 15, 16, 23, 42]\n",
    "\n",
    "pd.Series(data)"
   ]
  },
  {
   "cell_type": "code",
   "execution_count": null,
   "id": "c2243990-7e5f-4fb0-9998-e090cbc54ee4",
   "metadata": {},
   "outputs": [],
   "source": []
  },
  {
   "cell_type": "code",
   "execution_count": 2,
   "id": "49394055-b9ec-4e8c-99fd-860eb0cb8ea7",
   "metadata": {},
   "outputs": [],
   "source": [
    "# Q2. Create a variable of list type containing 10 elements in it, and apply pandas.Series function on the variable print it."
   ]
  },
  {
   "cell_type": "code",
   "execution_count": 4,
   "id": "a9c7a436-e846-416f-8afc-472ed835ae5a",
   "metadata": {},
   "outputs": [
    {
     "data": {
      "text/plain": [
       "0              12\n",
       "1            52.4\n",
       "2    Data Science\n",
       "3            True\n",
       "4          (1+3j)\n",
       "5           Henil\n",
       "6           False\n",
       "7           98.99\n",
       "8        (12+45j)\n",
       "9             108\n",
       "dtype: object"
      ]
     },
     "execution_count": 4,
     "metadata": {},
     "output_type": "execute_result"
    }
   ],
   "source": [
    "import pandas\n",
    "\n",
    "list_data = [12, 52.4, 'Data Science', True, 1+3j, 'Henil', False, 98.99, 12+45j, 108]\n",
    "\n",
    "pandas.Series(list_data)"
   ]
  },
  {
   "cell_type": "code",
   "execution_count": null,
   "id": "47904d1b-7435-43d5-9935-df59efeae919",
   "metadata": {},
   "outputs": [],
   "source": []
  },
  {
   "cell_type": "markdown",
   "id": "4b3592e0-f927-4474-90c3-5ad1c7bb1b43",
   "metadata": {},
   "source": [
    "##### Q3. Create a Pandas DataFrame that contains the following data:\n",
    "\n",
    "| Name | Age | Gender |\n",
    "| :- | -: | :-: |\n",
    "| Alice | 25 | Female |\n",
    "| Bob | 30 | Male |\n",
    "| Claire | 27 | Female |\n",
    "\n",
    "\n",
    "##### Then, print the DataFrame."
   ]
  },
  {
   "cell_type": "code",
   "execution_count": 10,
   "id": "f3dbc8ce-47b7-4185-9497-25a0c2563d46",
   "metadata": {},
   "outputs": [
    {
     "data": {
      "text/html": [
       "<div>\n",
       "<style scoped>\n",
       "    .dataframe tbody tr th:only-of-type {\n",
       "        vertical-align: middle;\n",
       "    }\n",
       "\n",
       "    .dataframe tbody tr th {\n",
       "        vertical-align: top;\n",
       "    }\n",
       "\n",
       "    .dataframe thead th {\n",
       "        text-align: right;\n",
       "    }\n",
       "</style>\n",
       "<table border=\"1\" class=\"dataframe\">\n",
       "  <thead>\n",
       "    <tr style=\"text-align: right;\">\n",
       "      <th></th>\n",
       "      <th>Name</th>\n",
       "      <th>Age</th>\n",
       "      <th>Gender</th>\n",
       "    </tr>\n",
       "  </thead>\n",
       "  <tbody>\n",
       "    <tr>\n",
       "      <th>0</th>\n",
       "      <td>Alice</td>\n",
       "      <td>25</td>\n",
       "      <td>Female</td>\n",
       "    </tr>\n",
       "    <tr>\n",
       "      <th>1</th>\n",
       "      <td>Bob</td>\n",
       "      <td>30</td>\n",
       "      <td>Male</td>\n",
       "    </tr>\n",
       "    <tr>\n",
       "      <th>2</th>\n",
       "      <td>Claire</td>\n",
       "      <td>27</td>\n",
       "      <td>Female</td>\n",
       "    </tr>\n",
       "  </tbody>\n",
       "</table>\n",
       "</div>"
      ],
      "text/plain": [
       "     Name  Age  Gender\n",
       "0   Alice   25  Female\n",
       "1     Bob   30    Male\n",
       "2  Claire   27  Female"
      ]
     },
     "execution_count": 10,
     "metadata": {},
     "output_type": "execute_result"
    }
   ],
   "source": [
    "import pandas as pd\n",
    "\n",
    "df = {'Name':['Alice', 'Bob', 'Claire'], 'Age':[25,30, 27], 'Gender':['Female', 'Male', 'Female']}\n",
    "\n",
    "pd.DataFrame(df)"
   ]
  },
  {
   "cell_type": "code",
   "execution_count": null,
   "id": "15b0a56c-cac7-4d05-8332-5269b35e5c4c",
   "metadata": {},
   "outputs": [],
   "source": []
  },
  {
   "cell_type": "code",
   "execution_count": 11,
   "id": "7337a0e4-ffba-406d-9267-0d2b74ae707f",
   "metadata": {},
   "outputs": [],
   "source": [
    "# Q4. What is ‘DataFrame’ in pandas and how is it different from pandas.series? Explain with an example."
   ]
  },
  {
   "cell_type": "markdown",
   "id": "f8e52598-cd60-4bb0-b63b-8c233bb2837e",
   "metadata": {},
   "source": [
    "In pandas, a **DataFrame** is a two-dimensional tabular data structure that consists of rows and columns. It is one of the core data structures provided by the pandas library, and it's similar to a spreadsheet or a SQL table. Each column in a DataFrame can contain different types of data, such as numbers, strings, or even more complex objects, and each row represents a unique observation or record.\n",
    "\n",
    "On the other hand, a **Series** is a one-dimensional labeled array in pandas. It can be thought of as a single column of data with labels (index) attached to each element. A Series can hold any type of data, similar to a NumPy array, but it also has an index that allows for quick and label-based access to the data.\n",
    "\n",
    "Here's an example to illustrate the difference between a DataFrame and a Series:"
   ]
  },
  {
   "cell_type": "code",
   "execution_count": 12,
   "id": "96b22308-5726-4c6b-bf88-3b605d5ae96a",
   "metadata": {},
   "outputs": [
    {
     "name": "stdout",
     "output_type": "stream",
     "text": [
      "DataFrame:\n",
      "      Name  Age         City\n",
      "0    Alice   25     New York\n",
      "1      Bob   30  Los Angeles\n",
      "2  Charlie   22      Chicago\n",
      "3    David   28      Houston\n",
      "\n",
      "Series:\n",
      "0    25\n",
      "1    30\n",
      "2    22\n",
      "3    28\n",
      "Name: Age, dtype: int64\n"
     ]
    }
   ],
   "source": [
    "import pandas as pd\n",
    "\n",
    "# Creating a DataFrame\n",
    "data = {\n",
    "    'Name': ['Alice', 'Bob', 'Charlie', 'David'],\n",
    "    'Age': [25, 30, 22, 28],\n",
    "    'City': ['New York', 'Los Angeles', 'Chicago', 'Houston']\n",
    "}\n",
    "\n",
    "df = pd.DataFrame(data)\n",
    "\n",
    "# Creating a Pandas Series\n",
    "ages = pd.Series([25, 30, 22, 28], name='Age')\n",
    "\n",
    "print(\"DataFrame:\")\n",
    "print(df)\n",
    "print(\"\\nSeries:\")\n",
    "print(ages)"
   ]
  },
  {
   "cell_type": "code",
   "execution_count": null,
   "id": "9d625842-d95a-4dfe-96bf-02dcb269e96d",
   "metadata": {},
   "outputs": [],
   "source": []
  },
  {
   "cell_type": "code",
   "execution_count": 13,
   "id": "6357c36f-c81f-4a07-816a-29c1f6ca5f05",
   "metadata": {},
   "outputs": [],
   "source": [
    "# Q5. What are some common functions you can use to manipulate data in a Pandas DataFrame? Can you give an example of when you might use one of these functions?"
   ]
  },
  {
   "cell_type": "markdown",
   "id": "6a62b816-923f-4f21-8194-38f4b286e0f3",
   "metadata": {},
   "source": [
    "Pandas provides a wide range of functions to manipulate data in a DataFrame. Here are some common functions along with examples of when you might use them:\n",
    "\n",
    "**1. head() and tail():** These functions are used to view the first few or last few rows of a DataFrame, respectively."
   ]
  },
  {
   "cell_type": "code",
   "execution_count": 22,
   "id": "15e827ed-50fa-455e-ac48-57dffc40c89c",
   "metadata": {},
   "outputs": [
    {
     "name": "stdout",
     "output_type": "stream",
     "text": [
      "      Name  Age\n",
      "0    HENIL   24\n",
      "1  HANSRAJ   23\n",
      "   Name  Age\n",
      "3  YASH   22\n"
     ]
    }
   ],
   "source": [
    "import pandas as pd\n",
    "\n",
    "data = {'Name': ['HENIL', 'HANSRAJ', 'ABHI', 'YASH'],\n",
    "        'Age': [24, 23, 25, 22]}\n",
    "df = pd.DataFrame(data)\n",
    "\n",
    "print(df.head(2))\n",
    "\n",
    "print(df.tail(1))"
   ]
  },
  {
   "cell_type": "markdown",
   "id": "21626099-fba6-4c2b-84d4-c71bb5bf4c64",
   "metadata": {},
   "source": [
    "**2. shape:** This attribute returns the dimensions (rows, columns) of the DataFrame."
   ]
  },
  {
   "cell_type": "code",
   "execution_count": 23,
   "id": "233875e6-4f7e-4a6b-866d-fa1a2e48cd9d",
   "metadata": {},
   "outputs": [
    {
     "name": "stdout",
     "output_type": "stream",
     "text": [
      "(4, 2)\n"
     ]
    }
   ],
   "source": [
    "print(df.shape)"
   ]
  },
  {
   "cell_type": "markdown",
   "id": "0dc6aa40-930c-4759-adae-000648103f18",
   "metadata": {},
   "source": [
    "**3. describe():** Generates summary statistics of the numeric columns in the DataFrame."
   ]
  },
  {
   "cell_type": "code",
   "execution_count": 24,
   "id": "07bbc616-fb96-4a2d-96f4-d18b2418f37d",
   "metadata": {},
   "outputs": [
    {
     "name": "stdout",
     "output_type": "stream",
     "text": [
      "             Age\n",
      "count   4.000000\n",
      "mean   23.500000\n",
      "std     1.290994\n",
      "min    22.000000\n",
      "25%    22.750000\n",
      "50%    23.500000\n",
      "75%    24.250000\n",
      "max    25.000000\n"
     ]
    }
   ],
   "source": [
    "print(df.describe())"
   ]
  },
  {
   "cell_type": "markdown",
   "id": "db4f8b4a-5da8-4cea-87c5-b1849cbb0973",
   "metadata": {},
   "source": [
    "**4. sort_values():** Sorts the DataFrame by one or more columns."
   ]
  },
  {
   "cell_type": "code",
   "execution_count": 25,
   "id": "90261cf1-d289-4222-9fa3-1602b75dfb38",
   "metadata": {},
   "outputs": [
    {
     "name": "stdout",
     "output_type": "stream",
     "text": [
      "      Name  Age\n",
      "2     ABHI   25\n",
      "0    HENIL   24\n",
      "1  HANSRAJ   23\n",
      "3     YASH   22\n"
     ]
    }
   ],
   "source": [
    "sorted_df = df.sort_values(by='Age', ascending=False)\n",
    "print(sorted_df)"
   ]
  },
  {
   "cell_type": "markdown",
   "id": "f192d222-a14d-42c6-bdc7-099b74410344",
   "metadata": {},
   "source": [
    "**5. groupby():** Groups data based on a column and allows you to perform aggregate operations on those groups."
   ]
  },
  {
   "cell_type": "code",
   "execution_count": 26,
   "id": "4349539a-0e60-4814-ab6f-cb397ec7dafa",
   "metadata": {},
   "outputs": [
    {
     "name": "stdout",
     "output_type": "stream",
     "text": [
      "Age\n",
      "22    22.0\n",
      "23    23.0\n",
      "24    24.0\n",
      "25    25.0\n",
      "Name: Age, dtype: float64\n"
     ]
    }
   ],
   "source": [
    "grouped = df.groupby('Age')\n",
    "average_age = grouped['Age'].mean()\n",
    "print(average_age)"
   ]
  },
  {
   "cell_type": "markdown",
   "id": "9a14d5ea-4eeb-447b-82b6-0df59ce08d40",
   "metadata": {},
   "source": [
    "**6. drop():** Removes specified rows or columns from the DataFrame."
   ]
  },
  {
   "cell_type": "code",
   "execution_count": 28,
   "id": "eec6012c-88c4-4832-a7d7-e20c58750ac7",
   "metadata": {},
   "outputs": [
    {
     "name": "stdout",
     "output_type": "stream",
     "text": [
      "    Name  Age\n",
      "0  HENIL   24\n",
      "2   ABHI   25\n"
     ]
    }
   ],
   "source": [
    "modified_df = df.drop(index=[1, 3])\n",
    "print(modified_df)"
   ]
  },
  {
   "cell_type": "markdown",
   "id": "168e9f6f-a988-419c-a7ff-16544767baf7",
   "metadata": {},
   "source": [
    "**7. apply():** Applies a function along an axis of the DataFrame."
   ]
  },
  {
   "cell_type": "code",
   "execution_count": 29,
   "id": "bdb7046a-83b4-4ef5-9007-243747c01688",
   "metadata": {},
   "outputs": [
    {
     "name": "stdout",
     "output_type": "stream",
     "text": [
      "      Name  Age  Double_Age\n",
      "0    HENIL   24          48\n",
      "1  HANSRAJ   23          46\n",
      "2     ABHI   25          50\n",
      "3     YASH   22          44\n"
     ]
    }
   ],
   "source": [
    "def double_age(age):\n",
    "    return age * 2\n",
    "\n",
    "df['Double_Age'] = df['Age'].apply(double_age)\n",
    "print(df)"
   ]
  },
  {
   "cell_type": "markdown",
   "id": "62cf6d6d-eeba-417b-80d5-9f2e9af962d4",
   "metadata": {},
   "source": [
    "**8. merge() and join():** Combines two or more DataFrames based on a common column."
   ]
  },
  {
   "cell_type": "code",
   "execution_count": 30,
   "id": "97f26cd5-5396-4d2d-8b62-4ebde3b39dac",
   "metadata": {},
   "outputs": [
    {
     "name": "stdout",
     "output_type": "stream",
     "text": [
      "   ID Value_x Value_y\n",
      "0   2       B       X\n",
      "1   3       C       Y\n"
     ]
    }
   ],
   "source": [
    "left_df = pd.DataFrame({'ID': [1, 2, 3], 'Value': ['A', 'B', 'C']})\n",
    "right_df = pd.DataFrame({'ID': [2, 3, 4], 'Value': ['X', 'Y', 'Z']})\n",
    "\n",
    "merged_df = pd.merge(left_df, right_df, on='ID', how='inner')\n",
    "print(merged_df)"
   ]
  },
  {
   "cell_type": "code",
   "execution_count": null,
   "id": "8403bee1-dfc6-45e1-a0c1-fb6ae5ecf22e",
   "metadata": {},
   "outputs": [],
   "source": []
  },
  {
   "cell_type": "code",
   "execution_count": 31,
   "id": "4cdd9405-30a5-4590-baf8-5b231a36a0aa",
   "metadata": {},
   "outputs": [],
   "source": [
    "# Q6. Which of the following is mutable in nature Series, DataFrame, Panel?"
   ]
  },
  {
   "cell_type": "markdown",
   "id": "32ba0bf2-3c8b-490b-8907-cb7b6057086c",
   "metadata": {},
   "source": [
    "Among the options provided, both Series and DataFrame are mutable in nature, whereas Panel is not.\n",
    "\n",
    "1. **Series**: A Pandas Series is mutable, meaning you can modify its values after it's created. You can change specific values, add new values, or delete existing values.\n",
    "\n",
    "2. **DataFrame**: Similarly, a Pandas DataFrame is mutable. You can change cell values, add or remove columns, and manipulate the structure and content of the DataFrame.\n",
    "\n",
    "3. **Panel**: However, the Panel data structure has been deprecated in recent versions of Pandas (0.25.0 and later) and is no longer recommended for use. It was designed to handle three-dimensional data, but for most use cases, multi-index DataFrames can be used instead. If you're using a newer version of Pandas, you won't find the Panel data structure, so it's not relevant to the latest versions.\n",
    "\n",
    "In summary, Series and DataFrame are mutable, but the Panel data structure is no longer part of Pandas' recommended API."
   ]
  },
  {
   "cell_type": "code",
   "execution_count": null,
   "id": "c1034ef9-94fa-4a77-839a-549a12c5d763",
   "metadata": {},
   "outputs": [],
   "source": []
  },
  {
   "cell_type": "code",
   "execution_count": 32,
   "id": "83f1ffe9-b755-4074-ace9-b13a89539696",
   "metadata": {},
   "outputs": [],
   "source": [
    "# Q7. Create a DataFrame using multiple Series. Explain with an example."
   ]
  },
  {
   "cell_type": "markdown",
   "id": "4fddf165-c2af-40c9-be4f-1a4d68da5e48",
   "metadata": {},
   "source": [
    "Sure! You can create a DataFrame by combining multiple Pandas Series. Each Series will become a column in the resulting DataFrame. Here's an example:"
   ]
  },
  {
   "cell_type": "code",
   "execution_count": 33,
   "id": "3904ecf1-2fce-43d1-9a5a-980fc3ef1ec4",
   "metadata": {},
   "outputs": [
    {
     "name": "stdout",
     "output_type": "stream",
     "text": [
      "      Name  Age         City\n",
      "0    Henil   24     New York\n",
      "1  Hansraj   23  Los Angeles\n",
      "2     Abhi   25      Chicago\n",
      "3     Yash   22      Houston\n"
     ]
    }
   ],
   "source": [
    "import pandas as pd\n",
    "\n",
    "names = pd.Series(['Henil', 'Hansraj', 'Abhi', 'Yash'])\n",
    "ages = pd.Series([24, 23, 25, 22])\n",
    "cities = pd.Series(['New York', 'Los Angeles', 'Chicago', 'Houston'])\n",
    "\n",
    "data = {\n",
    "    'Name': names,\n",
    "    'Age': ages,\n",
    "    'City': cities\n",
    "}\n",
    "\n",
    "df = pd.DataFrame(data)\n",
    "\n",
    "print(df)"
   ]
  },
  {
   "cell_type": "markdown",
   "id": "a5ffab9f-26dc-4dc2-92e7-47bfe2a3d6c7",
   "metadata": {},
   "source": [
    "In this example, we created three Pandas Series (**names**, **ages**, and **cities**) representing the names, ages, and cities of individuals. We then combined these Series into a DataFrame named **df** by creating a dictionary where the keys are the column names and the values are the corresponding Series. The resulting DataFrame has columns 'Name', 'Age', and 'City', each containing the values from the respective Series."
   ]
  }
 ],
 "metadata": {
  "kernelspec": {
   "display_name": "Python 3 (ipykernel)",
   "language": "python",
   "name": "python3"
  },
  "language_info": {
   "codemirror_mode": {
    "name": "ipython",
    "version": 3
   },
   "file_extension": ".py",
   "mimetype": "text/x-python",
   "name": "python",
   "nbconvert_exporter": "python",
   "pygments_lexer": "ipython3",
   "version": "3.10.8"
  }
 },
 "nbformat": 4,
 "nbformat_minor": 5
}
